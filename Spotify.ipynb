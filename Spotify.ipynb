{
 "cells": [
  {
   "cell_type": "code",
   "execution_count": 28,
   "id": "0dbff895-ff2d-4d94-928a-2d3612bc1804",
   "metadata": {},
   "outputs": [],
   "source": [
    "# ქვიზი 5 - 6\n",
    "# გიორგი გაჯიშვილი\n",
    "\n",
    "import pandas as pd\n",
    "from sklearn.model_selection import train_test_split\n",
    "from sklearn.linear_model import LinearRegression\n",
    "from sklearn.metrics import mean_squared_error, r2_score\n",
    "\n",
    "# Load the dataset\n",
    "file_path = 'spotify_data.csv'\n",
    "spotify_data = pd.read_csv(file_path, encoding='latin1')"
   ]
  },
  {
   "cell_type": "code",
   "execution_count": null,
   "id": "4c7fda32-5d84-46a1-b639-7839d4e7bb2c",
   "metadata": {},
   "outputs": [],
   "source": []
  },
  {
   "cell_type": "code",
   "execution_count": 21,
   "id": "6f76b6f4-b1ef-46ba-b650-4646b0f7ccaa",
   "metadata": {},
   "outputs": [
    {
     "name": "stdout",
     "output_type": "stream",
     "text": [
      "Mean Squared Error: 2.5295566486403574e+17\n",
      "R^2 Score: 0.0830713124670256\n",
      "Predictions on new data: [1.95808652e+09 2.28837274e+09 2.61865897e+09]\n"
     ]
    }
   ],
   "source": [
    "#1 Simple Linear Regression\n",
    "\n",
    "data = spotify_data[['Spotify Streams', 'Track Score']].dropna()\n",
    "data['Spotify Streams'] = data['Spotify Streams'].str.replace(',', '').astype(float)\n",
    "\n",
    "X = data[['Track Score']]\n",
    "y = data['Spotify Streams']\n",
    "X_train, X_test, y_train, y_test = train_test_split(X, y, test_size=0.2, random_state=42)\n",
    "\n",
    "model = LinearRegression()\n",
    "model.fit(X_train, y_train)\n",
    "\n",
    "y_pred = model.predict(X_test)\n",
    "\n",
    "mse = mean_squared_error(y_test, y_pred)\n",
    "r2 = r2_score(y_test, y_pred)\n",
    "\n",
    "print(f\"Mean Squared Error: {mse}\")\n",
    "print(f\"R^2 Score: {r2}\")\n",
    "\n",
    "new_data = pd.DataFrame({'Track Score': [500, 600, 700]})\n",
    "new_predictions = model.predict(new_data)\n",
    "print(\"Predictions on new data:\", new_predictions)"
   ]
  },
  {
   "cell_type": "code",
   "execution_count": null,
   "id": "a5b13275-af34-45db-a2e9-2b10695f22ae",
   "metadata": {},
   "outputs": [],
   "source": []
  },
  {
   "cell_type": "code",
   "execution_count": 22,
   "id": "6d9c90af-b35a-4c22-933e-91203e192d52",
   "metadata": {},
   "outputs": [
    {
     "name": "stdout",
     "output_type": "stream",
     "text": [
      "Mean Squared Error: 5.820821480226038e+16\n",
      "R^2 Score: 0.8096848753282524\n",
      "Predictions on new data: [6.81441401e+08 8.55127892e+08 1.02881438e+09]\n"
     ]
    }
   ],
   "source": [
    "#2. Multiple Linear Regression\n",
    "\n",
    "data = spotify_data[['Spotify Streams', 'Track Score', 'Spotify Playlist Count', 'Shazam Counts']].dropna()\n",
    "data['Spotify Streams'] = data['Spotify Streams'].str.replace(',', '').astype(float)\n",
    "data['Spotify Playlist Count'] = data['Spotify Playlist Count'].str.replace(',', '').astype(float)\n",
    "data['Shazam Counts'] = data['Shazam Counts'].str.replace(',', '').astype(float)\n",
    "\n",
    "X = data[['Track Score', 'Spotify Playlist Count', 'Shazam Counts']]\n",
    "y = data['Spotify Streams']\n",
    "X_train, X_test, y_train, y_test = train_test_split(X, y, test_size=0.2, random_state=42)\n",
    "\n",
    "model = LinearRegression()\n",
    "model.fit(X_train, y_train)\n",
    "\n",
    "y_pred = model.predict(X_test)\n",
    "\n",
    "mse = mean_squared_error(y_test, y_pred)\n",
    "r2 = r2_score(y_test, y_pred)\n",
    "\n",
    "print(f\"Mean Squared Error: {mse}\")\n",
    "print(f\"R^2 Score: {r2}\")\n",
    "\n",
    "new_data = pd.DataFrame({'Track Score': [500, 600, 700], 'Spotify Playlist Count': [30000, 40000, 50000], 'Shazam Counts': [2000000, 3000000, 4000000]})\n",
    "new_predictions = model.predict(new_data)\n",
    "print(\"Predictions on new data:\", new_predictions)\n"
   ]
  },
  {
   "cell_type": "code",
   "execution_count": null,
   "id": "1037b97b-23aa-4f35-acc9-f7e05026f459",
   "metadata": {},
   "outputs": [],
   "source": []
  },
  {
   "cell_type": "code",
   "execution_count": 23,
   "id": "b4e359a0-cd1c-48ee-acc3-9757e56b4c1a",
   "metadata": {},
   "outputs": [
    {
     "name": "stdout",
     "output_type": "stream",
     "text": [
      "Mean Squared Error: 3.314052984969807e+17\n",
      "R^2 Score: -0.2012975694995549\n",
      "Predictions on new data: [6.01309283e+08 3.23703884e+08 3.90470936e+08]\n"
     ]
    }
   ],
   "source": [
    "#3. ხის რეგრესიის მოდელი\n",
    "\n",
    "from sklearn.tree import DecisionTreeRegressor\n",
    "\n",
    "data = spotify_data[['Spotify Streams', 'Track Score']].dropna() \n",
    "data['Spotify Streams'] = data['Spotify Streams'].str.replace(',', '').astype(float)\n",
    "\n",
    "X = data[['Track Score']]\n",
    "y = data['Spotify Streams']\n",
    "X_train, X_test, y_train, y_test = train_test_split(X, y, test_size=0.2, random_state=42)\n",
    "\n",
    "model = DecisionTreeRegressor()\n",
    "model.fit(X_train, y_train)\n",
    "\n",
    "y_pred = model.predict(X_test)\n",
    "\n",
    "mse = mean_squared_error(y_test, y_pred)\n",
    "r2 = r2_score(y_test, y_pred)\n",
    "\n",
    "print(f\"Mean Squared Error: {mse}\")\n",
    "print(f\"R^2 Score: {r2}\")\n",
    "\n",
    "new_data = pd.DataFrame({'Track Score': [500, 600, 700]})\n",
    "new_predictions = model.predict(new_data)\n",
    "print(\"Predictions on new data:\", new_predictions)\n"
   ]
  },
  {
   "cell_type": "code",
   "execution_count": null,
   "id": "4a3941a3-8bf6-4c0e-b6b7-a0db61ad4529",
   "metadata": {},
   "outputs": [],
   "source": []
  },
  {
   "cell_type": "code",
   "execution_count": 24,
   "id": "6d82b0c3-3be2-45a3-9d2a-768d60467402",
   "metadata": {},
   "outputs": [
    {
     "name": "stdout",
     "output_type": "stream",
     "text": [
      "Accuracy: 0.6191536748329621\n",
      "Predictions on new data: [0 0 0]\n"
     ]
    }
   ],
   "source": [
    "#4. ლოჯისტიკური რეგრესიის მოდელი\n",
    "\n",
    "from sklearn.linear_model import LogisticRegression\n",
    "\n",
    "data = spotify_data[['Explicit Track', 'Track Score', 'Spotify Streams']].dropna()\n",
    "data['Spotify Streams'] = data['Spotify Streams'].str.replace(',', '').astype(float)\n",
    "data['Explicit Track'] = data['Explicit Track'].astype(int)\n",
    "\n",
    "X = data[['Track Score', 'Spotify Streams']]\n",
    "y = data['Explicit Track']\n",
    "X_train, X_test, y_train, y_test = train_test_split(X, y, test_size=0.2, random_state=42)\n",
    "\n",
    "model = LogisticRegression(max_iter=1000)\n",
    "model.fit(X_train, y_train)\n",
    "\n",
    "y_pred = model.predict(X_test)\n",
    "\n",
    "accuracy = model.score(X_test, y_test)\n",
    "\n",
    "print(f\"Accuracy: {accuracy}\")\n",
    "\n",
    "new_data = pd.DataFrame({'Track Score': [500, 600, 700], 'Spotify Streams': [300000000, 400000000, 500000000]})\n",
    "new_predictions = model.predict(new_data)\n",
    "print(\"Predictions on new data:\", new_predictions)\n"
   ]
  },
  {
   "cell_type": "code",
   "execution_count": null,
   "id": "f04f2d29-0548-4b6e-a888-9fb3cf2a9cd8",
   "metadata": {},
   "outputs": [],
   "source": []
  },
  {
   "cell_type": "code",
   "execution_count": 25,
   "id": "8b38b2be-c683-404a-baf2-0969089b7a1d",
   "metadata": {},
   "outputs": [
    {
     "name": "stdout",
     "output_type": "stream",
     "text": [
      "Accuracy: 0.5590200445434298\n",
      "Predictions on new data: [1 0 0]\n"
     ]
    }
   ],
   "source": [
    "#5. გადაწყვეტილების ხის კლასიფიკაციის მოდელი\n",
    "\n",
    "from sklearn.tree import DecisionTreeClassifier\n",
    "\n",
    "data = spotify_data[['Explicit Track', 'Track Score', 'Spotify Streams']].dropna()\n",
    "data['Spotify Streams'] = data['Spotify Streams'].str.replace(',', '').astype(float)\n",
    "data['Explicit Track'] = data['Explicit Track'].astype(int)\n",
    "\n",
    "X = data[['Track Score', 'Spotify Streams']]\n",
    "y = data['Explicit Track']\n",
    "X_train, X_test, y_train, y_test = train_test_split(X, y, test_size=0.2, random_state=42)\n",
    "\n",
    "model = DecisionTreeClassifier()\n",
    "model.fit(X_train, y_train)\n",
    "\n",
    "y_pred = model.predict(X_test)\n",
    "\n",
    "accuracy = model.score(X_test, y_test)\n",
    "\n",
    "print(f\"Accuracy: {accuracy}\")\n",
    "\n",
    "new_data = pd.DataFrame({'Track Score': [500, 600, 700], 'Spotify Streams': [300000000, 400000000, 500000000]})\n",
    "new_predictions = model.predict(new_data)\n",
    "print(\"Predictions on new data:\", new_predictions)\n"
   ]
  },
  {
   "cell_type": "code",
   "execution_count": null,
   "id": "dac736bf-948e-4cdf-80b6-3886ff17ab1d",
   "metadata": {},
   "outputs": [],
   "source": []
  },
  {
   "cell_type": "code",
   "execution_count": null,
   "id": "96adadaa-912b-40a8-8d6d-4bbbebe8b9a0",
   "metadata": {},
   "outputs": [],
   "source": []
  },
  {
   "cell_type": "code",
   "execution_count": null,
   "id": "17c0d5a4-ee67-4ea9-a00b-73187c0e200e",
   "metadata": {},
   "outputs": [],
   "source": []
  },
  {
   "cell_type": "code",
   "execution_count": null,
   "id": "5686d246-a5ca-4fd5-8d85-305ba2801807",
   "metadata": {},
   "outputs": [],
   "source": []
  },
  {
   "cell_type": "code",
   "execution_count": null,
   "id": "fe6348e9-1e72-4986-a229-3e97f793d0f5",
   "metadata": {},
   "outputs": [],
   "source": []
  }
 ],
 "metadata": {
  "kernelspec": {
   "display_name": "Python 3 (ipykernel)",
   "language": "python",
   "name": "python3"
  },
  "language_info": {
   "codemirror_mode": {
    "name": "ipython",
    "version": 3
   },
   "file_extension": ".py",
   "mimetype": "text/x-python",
   "name": "python",
   "nbconvert_exporter": "python",
   "pygments_lexer": "ipython3",
   "version": "3.12.2"
  }
 },
 "nbformat": 4,
 "nbformat_minor": 5
}
